{
 "cells": [
  {
   "cell_type": "code",
   "execution_count": 1,
   "metadata": {},
   "outputs": [],
   "source": [
    "import os\n",
    "import sys\n",
    "import argparse\n",
    "import pandas as pd\n",
    "import re\n",
    "import numpy as np\n",
    "from Bio import SeqIO\n",
    "import gzip\n"
   ]
  },
  {
   "cell_type": "code",
   "execution_count": 2,
   "metadata": {},
   "outputs": [],
   "source": [
    "snp_info = pd.read_excel(\"/Users/petterbystrom/Documents/Applied Bioinformatics/Python/Benchmarking_ASR_algorithms/snp_spreadsheet.xlsx\", \"Supp. table 14\", header=1, index_col=0)\n",
    "taxa_info = pd.read_excel(\"/Users/petterbystrom/Documents/Applied Bioinformatics/Python/Benchmarking_ASR_algorithms/snp_spreadsheet.xlsx\", \"Supp. table 13\", header=1)\n"
   ]
  },
  {
   "cell_type": "code",
   "execution_count": 3,
   "metadata": {},
   "outputs": [],
   "source": [
    "snp_info.drop('CO92 Ref.', axis=1, inplace=True)\n",
    "#snp_info.drop('BSK001', axis=1, inplace=True) \n",
    "#snp_info.drop('BSK003', axis=1, inplace=True) \n"
   ]
  },
  {
   "cell_type": "code",
   "execution_count": 4,
   "metadata": {},
   "outputs": [],
   "source": [
    "def headers_from_fasta(fasta_file):\n",
    "    headers = []\n",
    "    if str(fasta_file)[-2:]!=\"gz\":\n",
    "        with open(fasta_file, 'r') as fasta_file:\n",
    "            current_header = None\n",
    "            for line in fasta_file:\n",
    "                line = line.strip()\n",
    "                if line.startswith('>'):\n",
    "                    # If a line starts with '>', it's a header line\n",
    "                    current_header = line\n",
    "                    headers.append(current_header)\n",
    "    elif str(fasta_file)[-2:]==\"gz\":\n",
    "\n",
    "        with gzip.open(fasta_file, 'rt') as fasta_file:\n",
    "            current_header = None\n",
    "            for line in fasta_file:\n",
    "                line = line.strip()\n",
    "                if line.startswith('>'):\n",
    "                    # If a line starts with '>', it's a header line\n",
    "                    current_header = line\n",
    "                    print(line)\n",
    "                    headers.append(current_header)\n",
    "\n",
    "    return [line.replace('>', '') for line in headers]"
   ]
  },
  {
   "cell_type": "code",
   "execution_count": null,
   "metadata": {},
   "outputs": [],
   "source": [
    "grep -o '>' /Users/petterbystrom/Documents/Applied\\ Bioinformatics/Python/snpAlignment_Spyrou2022_codon.fasta | wc -l"
   ]
  },
  {
   "cell_type": "code",
   "execution_count": 5,
   "metadata": {},
   "outputs": [],
   "source": [
    "def transform_elements(regex, elements):\n",
    "    pattern = re.compile(regex)\n",
    "    transformed_elements = []\n",
    "    for element in elements:\n",
    "        match = pattern.match(element)\n",
    "        if match:\n",
    "            transformed_elements.append(re.sub(r'\\.[A-Za-z0-9]+$', '', element))\n",
    "        else:\n",
    "            transformed_elements.append(element)\n",
    "    return transformed_elements\n",
    "regex_pattern = r'^[A-Za-z0-9]+(?:\\.[A-Za-z0-9]+)?$'"
   ]
  },
  {
   "cell_type": "code",
   "execution_count": 6,
   "metadata": {},
   "outputs": [
    {
     "name": "stdout",
     "output_type": "stream",
     "text": [
      "251\n",
      "['BSK001', 'BSK003']\n",
      "[]\n",
      "{'0.ANT1h_CMCC43032', '0.ANT1g_CMCC42007', 'MAN008', 'G488', '0.ANT1e_CMCC8211', '1.ORI2g_F1984001', '2.ANT2b_351001', '2.MED3i_CMCC92004', '4.ANT_M-1944', 'London_StMaryGraces_6330', 'STN020', '1.IN2k_970754', '0.PE4_I-3455', '2.ANT3_KM682', '2.MED2e_7338', 'CHE.C1-C2-3-C4', '0.PE2_3067', '2.ANT3d_CMCC96007', 'OBS137', '2.MED3c_I1969003', 'G701', '0.PE4a_I-2751-55', '0.ANT3_231', '0.PE2_C-590', '2.MED3o_I1991001', '2.ANT2a_2', '1.IN2f_710317', '2.MED1_44', '1.IN3d_YN1683', '0.PE4Ab_9', '1.ORI3_MG05-1020', '3.ANT2c_MGJZ9', '0.PE2_3770', '2.MED3p_CMCC107004', 'Gdansk8', '2.MED1_KIM10', '0.PE2_C-290', 'BED030', '0.PE2_1522', '0.PE4Ba_PestoidesA', '1.ORI3a_EV76', '2.ANT3a_CMCC92010', '2.MED1_1240', '2.ANT3h_CMCC106002', '0.PE5_I-2231', '1.IN2q_D1964001', '1.ORI2h_YN663', '1.IN3i_CMCC84046', '1.ORI2d_YN2588', '0.PE2_3551', '1.IN2i_CMCC10012', '0.PE2_14735', 'BED034', 'COLC1-COLC2a_COLC2b', '2.MED3h_CMCC90027', '1.ORI2c_YN2551b', '2.MED1_A-1763', 'PEB10', '1.ANT1_UG05-0454', '0.PE4a_B1313', '4.ANT_1454', 'outgroup_Y.pseudo', '0.ANT1d_164', '0.PE4Cc_CMCC18019', '3.ANT2b_MGJZ7', '2.ANT3c_CMCC96001', 'STN019', '0.ANT1f_42095', '2.MED2c_K11973002', '2.MED1_1116-D', '1.ORI2a_YN2179', '2.ANT2e_G1996010', 'STN021', 'OBS110', '2.MED1_173', '0.PE4_5307-Gis', 'Azov38', '0.PE2_C-666', '1.IN2m_D1964002b', '2.ANT1b_34202', '2.ANT3j_H1959004', '1.ORI1_CO92', '2.MED3g_CMCC99103', 'STN013', '3.ANT1d_71021', '2.MED1_C-791', '0.PE4h_A-1249', '0.PE5_I-2422b', 'OBS116', '0.PE4_A-1807', '0.PE4_M0000002', '0.ANT3_A-1486', 'TRP002.A0101-02', '1.IN3b_E1979001', 'STA001', 'Bolgar', '3.ANT1c_C1976001', '0.ANT5_5M', '1.IN2c_CMCC31004', '0.PE2_C-197', '2.MED1_M-1773', 'London_EastSmithfield_8124_8291_11972', '0.ANT3c_42082', 'OSL1', 'STN002', '1.IN3a_F1954001', '1.ORI2i_CMCCK110001b', 'BRA001', 'STN008', '2.ANT1a_34008', '2.MED1_M-549', '2.MED3d_J1978002', '0.PE4_I-3134', '3.ANT2a_MGJZ6', '0.PE2_C-291', '2.MED1_M-1448', '2.MED3n_SHAN12', '2.MED3f_I1970005', '2.MED1_KM918', '2.MED1_1045', 'BED024', '1.IN3e_YN472', '1.IN3f_YN1065', '0.PE2_1412', '0.PE2_3544', '1.IN2p_D1982001', '0.PE2_PEST-F', '1.ORI1b_India195', 'AGU010', '0.PE5_I-2457', 'Rostov2033', '1.ORI2_F1991016', '2.ANT2f_CMCC348002', 'LBG002', '2.ANT3k_5761', 'BSK001-003.A0101.A0102.A0103-malt', '2.MED3b_CMCC125002b', '2.ANT3l_735', '2.MED3j_I2001001', '0.PE2_C-741', '1.IN2j_CMCC27002', '1.ORI2i_CMCCK100001a', '0.PE4Ce_CMCC91090', '2.MED3m_SHAN11', '3.ANT2e_MGJZ3', '2.MED1_M-1864', 'Ber45', '0.ANT3a_CMCC38001', '0.PE2_M-986', '2.ANT3b_CMCC95001', '0.PE2_C-267', '0.ANT3e_42091b', '0.ANT1a_42013', '2.MED2b_91', 'OBS107', '0.PE5_I-3189', '1.IN2e_C1989001', '0.PE5_I-2236', '4.ANT_517', '0.PE5_I-2422a', '2.ANT3g_CMCC51020', 'AGU007', 'ELW098_JK1548', '1.IN2o_CMCC03001', '2.ANT2c_CMCC347001', '2.MED1d_2504', 'SC2_SPN7', '2.MED3k_CMCC12003', '0.PE2_1413', '4.ANT_338', '1.IN1a_CMCC11001', '2.MED3l_I1994006', '2.MED1_M-595', '0.PE2_1670', '1.ORI1_CA88', '0.ANT1c_945', '3.ANT1b_CMCC71001', '3.ANT2d_MGJZ11', '2.MED1_K1973002', '0.ANT1b_CMCC49003', '0.ANT3d_CMCC21106', '1.ORI2f_CMCC87001', '3.ANT1a_7b', '0.PE4m_I-3086', 'STN014', '0.ANT2_B42003004', '0.PE2_C-346', '0.PE2_C-235', '0.PE4Ca_CMCCN010025', '0.PE4a_I-2998', '1.IN1b_780441', '2.MED1_1906', '2.ANT3i_CMCC64001', '0.PE4_A-513', '0.PE5_I-3190', '2.MED1_M-978', '2.ANT1_Nepal516', 'NAB003', '1.IN2l_D1991004', '2.MED1_M-1453', 'LAI009', '2.ANT3f_CMCC104003', '2.MED1_2944', '0.PE2_C-739', '2.MED1_M-1524', '2.MED1c_2654', '4.ANT_KM932', '0.ANT3_790', '0.PE2_8787', '2.MED2d_A1973001', 'OBS124', '1.IN2g_CMCC05013', '2.MED1b_2506', '1.IN3h_CMCC84033', '2.ANT2d_G1996006', 'NMS002', '0.ANT2a_2330', 'Rostov2039', '1.ORI3_IP275', 'BED028', '0.ANT5_262', '2.MED1_KM816', '1.IN3c_CMCC84038b', '4.ANT1a_MGJZ12', '0.PE2_C-359', '1.IN2a_CMCC640047', '1.ANT1_Antiqua', 'Barcelona', 'Ber37', 'AGU025', '0.PE4Aa_12', '0.PE2_C-537', '0.ANT3b_A1956001', '2.ANT3e_CMCC67001', '1.IN2b_30017', '0.PE2_KM874', '0.PE4Cd_CMCC93014', '1.IN2d_C1975003', '2.MED1_244', '1.IN2h_5', '1.IN3g_E1977001', '1.ORI1c_F1946001', '0.PE2_835_BPC', '2.MED3a_J1963002', 'STN007', '0.PE5_I-2239', '2.MED1_261', '1.IN2n_CMCC02041', '1.ORI1a_CMCC114001', '0.PE4_A-1804', '1.IN1c_K21985002'}\n"
     ]
    }
   ],
   "source": [
    "#enteries = set(snp_info.columns.to_list()) & set(taxa_info[\"Genome ID\"].to_list()) & set(transform_elements(regex_pattern,headers))\n",
    "headers=headers_from_fasta(\"/Users/petterbystrom/Documents/Applied Bioinformatics/snpAlignment_Spyrou2022.fasta\")\n",
    "headers_MA = headers_from_fasta(\"/Users/petterbystrom/Documents/Applied Bioinformatics/snpAlignment_Spyrou2022_modern_ancient.fasta2\")\n",
    "headers= transform_elements(regex_pattern,headers)\n",
    "enteries = set(snp_info.columns.to_list())  & set(headers) #set(taxa_info[\"Genome ID\"].to_list())\n",
    "print(len(enteries))\n",
    "unique_to_snpinfo = [element for element in snp_info.columns.to_list() if element not in enteries]\n",
    "#unique_to_taxainfo = [element for element in set(taxa_info[\"Genome ID\"].to_list()) if element not in enteries]\n",
    "unique_to_Headersfromfasta = [element for element in headers if element not in enteries]\n",
    "print(sorted(unique_to_snpinfo))\n",
    "#print(sorted(unique_to_taxainfo))\n",
    "print(sorted(unique_to_Headersfromfasta))\n",
    "print(enteries)"
   ]
  },
  {
   "cell_type": "code",
   "execution_count": 7,
   "metadata": {},
   "outputs": [
    {
     "name": "stdout",
     "output_type": "stream",
     "text": [
      "['.ANT1_Antiqua', '.ANT1_Nepal516', '.ANT1_UG05-0454', '.ANT1a_34008', '.ANT1a_42013', '.ANT1a_7b', '.ANT1a_MGJZ12', '.ANT1b_34202', '.ANT1b_CMCC49003', '.ANT1b_CMCC71001', '.ANT1c_945', '.ANT1c_C1976001', '.ANT1d_164', '.ANT1d_71021', '.ANT1e_CMCC8211', '.ANT1f_42095', '.ANT1g_CMCC42007', '.ANT1h_CMCC43032', '.ANT2_B42003004', '.ANT2a_2', '.ANT2a_2330', '.ANT2a_MGJZ6', '.ANT2b_351001', '.ANT2b_MGJZ7', '.ANT2c_CMCC347001', '.ANT2c_MGJZ9', '.ANT2d_G1996006', '.ANT2d_MGJZ11', '.ANT2e_G1996010', '.ANT2e_MGJZ3', '.ANT2f_CMCC348002', '.ANT3_231', '.ANT3_790', '.ANT3_A-1486', '.ANT3_KM682', '.ANT3a_CMCC38001', '.ANT3a_CMCC92010', '.ANT3b_A1956001', '.ANT3b_CMCC95001', '.ANT3c_42082', '.ANT3c_CMCC96001', '.ANT3d_CMCC21106', '.ANT3d_CMCC96007', '.ANT3e_42091b', '.ANT3e_CMCC67001', '.ANT3f_CMCC104003', '.ANT3g_CMCC51020', '.ANT3h_CMCC106002', '.ANT3i_CMCC64001', '.ANT3j_H1959004', '.ANT3k_5761', '.ANT3l_735', '.ANT5_262', '.ANT5_5M', '.ANT_1454', '.ANT_338', '.ANT_517', '.ANT_KM932', '.ANT_M-1944', '.IN1a_CMCC11001', '.IN1b_780441', '.IN1c_K21985002', '.IN2a_CMCC640047', '.IN2b_30017', '.IN2c_CMCC31004', '.IN2d_C1975003', '.IN2e_C1989001', '.IN2f_710317', '.IN2g_CMCC05013', '.IN2h_5', '.IN2i_CMCC10012', '.IN2j_CMCC27002', '.IN2k_970754', '.IN2l_D1991004', '.IN2m_D1964002b', '.IN2n_CMCC02041', '.IN2o_CMCC03001', '.IN2p_D1982001', '.IN2q_D1964001', '.IN3a_F1954001', '.IN3b_E1979001', '.IN3c_CMCC84038b', '.IN3d_YN1683', '.IN3e_YN472', '.IN3f_YN1065', '.IN3g_E1977001', '.IN3h_CMCC84033', '.IN3i_CMCC84046', '.MED1_1045', '.MED1_1116-D', '.MED1_1240', '.MED1_173', '.MED1_1906', '.MED1_244', '.MED1_261', '.MED1_2944', '.MED1_44', '.MED1_A-1763', '.MED1_C-791', '.MED1_K1973002', '.MED1_KIM10', '.MED1_KM816', '.MED1_KM918', '.MED1_M-1448', '.MED1_M-1453', '.MED1_M-1524', '.MED1_M-1773', '.MED1_M-1864', '.MED1_M-549', '.MED1_M-595', '.MED1_M-978', '.MED1b_2506', '.MED1c_2654', '.MED1d_2504', '.MED2b_91', '.MED2c_K11973002', '.MED2d_A1973001', '.MED2e_7338', '.MED3a_J1963002', '.MED3b_CMCC125002b', '.MED3c_I1969003', '.MED3d_J1978002', '.MED3f_I1970005', '.MED3g_CMCC99103', '.MED3h_CMCC90027', '.MED3i_CMCC92004', '.MED3j_I2001001', '.MED3k_CMCC12003', '.MED3l_I1994006', '.MED3m_SHAN11', '.MED3n_SHAN12', '.MED3o_I1991001', '.MED3p_CMCC107004', '.ORI1_CA88', '.ORI1_CO92', '.ORI1a_CMCC114001', '.ORI1b_India195', '.ORI1c_F1946001', '.ORI2_F1991016', '.ORI2a_YN2179', '.ORI2c_YN2551b', '.ORI2d_YN2588', '.ORI2f_CMCC87001', '.ORI2g_F1984001', '.ORI2h_YN663', '.ORI2i_CMCCK100001a', '.ORI2i_CMCCK110001b', '.ORI3_IP275', '.ORI3_MG05-1020', '.ORI3a_EV76', '.PE2_1412', '.PE2_1413', '.PE2_14735', '.PE2_1522', '.PE2_1670', '.PE2_3067', '.PE2_3544', '.PE2_3551', '.PE2_3770', '.PE2_835_BPC', '.PE2_8787', '.PE2_C-197', '.PE2_C-235', '.PE2_C-267', '.PE2_C-290', '.PE2_C-291', '.PE2_C-346', '.PE2_C-359', '.PE2_C-537', '.PE2_C-590', '.PE2_C-666', '.PE2_C-739', '.PE2_C-741', '.PE2_KM874', '.PE2_M-986', '.PE2_PEST-F', '.PE4Aa_12', '.PE4Ab_9', '.PE4Ba_PestoidesA', '.PE4Ca_CMCCN010025', '.PE4Cc_CMCC18019', '.PE4Cd_CMCC93014', '.PE4Ce_CMCC91090', '.PE4_5307-Gis', '.PE4_A-1804', '.PE4_A-1807', '.PE4_A-513', '.PE4_I-3134', '.PE4_I-3455', '.PE4_M0000002', '.PE4a_B1313', '.PE4a_I-2751-55', '.PE4a_I-2998', '.PE4h_A-1249', '.PE4m_I-3086', '.PE5_I-2231', '.PE5_I-2236', '.PE5_I-2239', '.PE5_I-2422a', '.PE5_I-2422b', '.PE5_I-2457', '.PE5_I-3189', '.PE5_I-3190', '488', '701', 'AB003', 'AI009', 'AN008', 'BG002', 'BS107', 'BS110', 'BS116', 'BS124', 'BS137', 'C2_SPN7', 'EB10', 'ED024', 'ED028', 'ED030', 'ED034', 'GU007', 'GU010', 'GU025', 'HE', 'LW098', 'MS002', 'OL1', 'RA001', 'RP002', 'SK001-003.A0101.A0102.A0103-malt', 'SL1', 'TA001', 'TN002', 'TN007', 'TN008', 'TN013', 'TN014', 'TN019', 'TN020', 'TN021', 'arcelona', 'dansk8', 'er37', 'er45', 'olgar', 'ondon_EastSmithfield_8124_8291_11972', 'ondon_StMaryGraces_6330', 'ostov2033', 'ostov2039', 'zov38']\n",
      "['0.ANT1a_42013', '0.ANT1b_CMCC49003', '0.ANT1c_945', '0.ANT1d_164', '0.ANT1e_CMCC8211', '0.ANT1f_42095', '0.ANT1g_CMCC42007', '0.ANT1h_CMCC43032', '0.ANT2_B42003004', '0.ANT2a_2330', '0.ANT3_231', '0.ANT3_790', '0.ANT3_A-1486', '0.ANT3a_CMCC38001', '0.ANT3b_A1956001', '0.ANT3c_42082', '0.ANT3d_CMCC21106', '0.ANT3e_42091b', '0.ANT5_262', '0.ANT5_5M', '0.PE2_1412', '0.PE2_1413', '0.PE2_14735', '0.PE2_1522', '0.PE2_1670', '0.PE2_3067', '0.PE2_3544', '0.PE2_3551', '0.PE2_3770', '0.PE2_835_BPC', '0.PE2_8787', '0.PE2_C-197', '0.PE2_C-235', '0.PE2_C-267', '0.PE2_C-290', '0.PE2_C-291', '0.PE2_C-346', '0.PE2_C-359', '0.PE2_C-537', '0.PE2_C-590', '0.PE2_C-666', '0.PE2_C-739', '0.PE2_C-741', '0.PE2_KM874', '0.PE2_M-986', '0.PE2_PEST-F', '0.PE4Aa_12', '0.PE4Ab_9', '0.PE4Ba_PestoidesA', '0.PE4Ca_CMCCN010025', '0.PE4Cc_CMCC18019', '0.PE4Cd_CMCC93014', '0.PE4Ce_CMCC91090', '0.PE4_5307-Gis', '0.PE4_A-1804', '0.PE4_A-1807', '0.PE4_A-513', '0.PE4_I-3134', '0.PE4_I-3455', '0.PE4_M0000002', '0.PE4a_B1313', '0.PE4a_I-2751-55', '0.PE4a_I-2998', '0.PE4h_A-1249', '0.PE4m_I-3086', '0.PE5_I-2231', '0.PE5_I-2236', '0.PE5_I-2239', '0.PE5_I-2422a', '0.PE5_I-2422b', '0.PE5_I-2457', '0.PE5_I-3189', '0.PE5_I-3190', '1.ANT1_Antiqua', '1.ANT1_UG05-0454', '1.IN1a_CMCC11001', '1.IN1b_780441', '1.IN1c_K21985002', '1.IN2a_CMCC640047', '1.IN2b_30017', '1.IN2c_CMCC31004', '1.IN2d_C1975003', '1.IN2e_C1989001', '1.IN2f_710317', '1.IN2g_CMCC05013', '1.IN2h_5', '1.IN2i_CMCC10012', '1.IN2j_CMCC27002', '1.IN2k_970754', '1.IN2l_D1991004', '1.IN2m_D1964002b', '1.IN2n_CMCC02041', '1.IN2o_CMCC03001', '1.IN2p_D1982001', '1.IN2q_D1964001', '1.IN3a_F1954001', '1.IN3b_E1979001', '1.IN3c_CMCC84038b', '1.IN3d_YN1683', '1.IN3e_YN472', '1.IN3f_YN1065', '1.IN3g_E1977001', '1.IN3h_CMCC84033', '1.IN3i_CMCC84046', '1.ORI1_CA88', '1.ORI1_CO92', '1.ORI1a_CMCC114001', '1.ORI1b_India195', '1.ORI1c_F1946001', '1.ORI2_F1991016', '1.ORI2a_YN2179', '1.ORI2c_YN2551b', '1.ORI2d_YN2588', '1.ORI2f_CMCC87001', '1.ORI2g_F1984001', '1.ORI2h_YN663', '1.ORI2i_CMCCK100001a', '1.ORI2i_CMCCK110001b', '1.ORI3_IP275', '1.ORI3_MG05-1020', '1.ORI3a_EV76', '2.ANT1_Nepal516', '2.ANT1a_34008', '2.ANT1b_34202', '2.ANT2a_2', '2.ANT2b_351001', '2.ANT2c_CMCC347001', '2.ANT2d_G1996006', '2.ANT2e_G1996010', '2.ANT2f_CMCC348002', '2.ANT3_KM682', '2.ANT3a_CMCC92010', '2.ANT3b_CMCC95001', '2.ANT3c_CMCC96001', '2.ANT3d_CMCC96007', '2.ANT3e_CMCC67001', '2.ANT3f_CMCC104003', '2.ANT3g_CMCC51020', '2.ANT3h_CMCC106002', '2.ANT3i_CMCC64001', '2.ANT3j_H1959004', '2.ANT3k_5761', '2.ANT3l_735', '2.MED1_1045', '2.MED1_1116-D', '2.MED1_1240', '2.MED1_173', '2.MED1_1906', '2.MED1_244', '2.MED1_261', '2.MED1_2944', '2.MED1_44', '2.MED1_A-1763', '2.MED1_C-791', '2.MED1_K1973002', '2.MED1_KIM10', '2.MED1_KM816', '2.MED1_KM918', '2.MED1_M-1448', '2.MED1_M-1453', '2.MED1_M-1524', '2.MED1_M-1773', '2.MED1_M-1864', '2.MED1_M-549', '2.MED1_M-595', '2.MED1_M-978', '2.MED1b_2506', '2.MED1c_2654', '2.MED1d_2504', '2.MED2b_91', '2.MED2c_K11973002', '2.MED2d_A1973001', '2.MED2e_7338', '2.MED3a_J1963002', '2.MED3b_CMCC125002b', '2.MED3c_I1969003', '2.MED3d_J1978002', '2.MED3f_I1970005', '2.MED3g_CMCC99103', '2.MED3h_CMCC90027', '2.MED3i_CMCC92004', '2.MED3j_I2001001', '2.MED3k_CMCC12003', '2.MED3l_I1994006', '2.MED3m_SHAN11', '2.MED3n_SHAN12', '2.MED3o_I1991001', '2.MED3p_CMCC107004', '3.ANT1a_7b', '3.ANT1b_CMCC71001', '3.ANT1c_C1976001', '3.ANT1d_71021', '3.ANT2a_MGJZ6', '3.ANT2b_MGJZ7', '3.ANT2c_MGJZ9', '3.ANT2d_MGJZ11', '3.ANT2e_MGJZ3', '4.ANT1a_MGJZ12', '4.ANT_1454', '4.ANT_338', '4.ANT_517', '4.ANT_KM932', '4.ANT_M-1944', 'AGU007', 'AGU010', 'AGU025', 'Azov38', 'BED024', 'BED028', 'BED030', 'BED034', 'BRA001', 'Barcelona 3031', 'Ber37', 'Ber45', 'Bolgar2370', 'CHE1', 'COL1', 'ELW098', 'G488', 'G701', 'Gdansk8', 'LAI009', 'LBG002', 'London  6330', 'London 8124/8291/11972', 'MAN008', 'NAB003', 'NMS002', 'OBS107', 'OBS110', 'OBS116', 'OBS124', 'OBS137', 'OSL1', 'PEB10', 'Rostov2033', 'Rostov2039', 'SC2_SPN7', 'STA001', 'STN002', 'STN007', 'STN008', 'STN013', 'STN014', 'STN019', 'STN020', 'STN021', 'TRP002']\n"
     ]
    }
   ],
   "source": [
    "headers_MA_nolabels=[]\n",
    "for i in headers_MA:\n",
    "    if 'modern' in i.lower():\n",
    "        headers_MA_nolabels.append(i[1:-7])\n",
    "    elif 'ancient' in i.lower():\n",
    "        headers_MA_nolabels.append(i[1:-8])\n",
    "\n",
    "print(sorted(headers_MA_nolabels))\n",
    "print(sorted(taxa_info[\"Genome ID\"].to_list()))"
   ]
  },
  {
   "cell_type": "code",
   "execution_count": 8,
   "metadata": {},
   "outputs": [
    {
     "name": "stdout",
     "output_type": "stream",
     "text": [
      "set()\n"
     ]
    }
   ],
   "source": [
    "common_MA_nolabels_snp = set(headers_MA_nolabels) & set(taxa_info[\"Genome ID\"].to_list())\n",
    "print(common_MA_nolabels_snp)"
   ]
  },
  {
   "cell_type": "code",
   "execution_count": 9,
   "metadata": {},
   "outputs": [
    {
     "name": "stdout",
     "output_type": "stream",
     "text": [
      "{}\n",
      "0\n"
     ]
    }
   ],
   "source": [
    "\n",
    "from difflib import get_close_matches\n",
    "'''\n",
    "translation_dict={}\n",
    "for i in snp_info.columns.to_list():\n",
    "    if i not in enteries:\n",
    "        print(i)\n",
    "        translation_dict[i]=get_close_matches(re.sub(r'\\d', '',i),[re.sub(r'\\d', '',i) for i in headers])\n",
    "print([header for header in headers if header not in enteries])\n",
    "'''\n",
    "translation_dict1={}\n",
    "\n",
    "for j,i in enumerate(sorted([header for header in headers if header not in enteries])):\n",
    "        temp_j= re.sub(r'[\\d.-]', '',i)\n",
    "        print(temp_j)\n",
    "        temp_i = [re.sub(r'[\\d.-]', '',i) for i in sorted(snp_info.columns.to_list()) if i not in enteries]\n",
    "\n",
    "        \n",
    "        translation_dict1[i] = get_close_matches(temp_j[0:5],temp_i)\n",
    "        #translation_dict1[i]= get_close_matches(match, snp_info.columns.to_list())\n",
    "\n",
    "\n",
    "print(translation_dict1)\n",
    "print(len(translation_dict1))"
   ]
  },
  {
   "cell_type": "code",
   "execution_count": 10,
   "metadata": {},
   "outputs": [
    {
     "ename": "SyntaxError",
     "evalue": "EOL while scanning string literal (<ipython-input-10-7f5f03bbbe17>, line 2)",
     "output_type": "error",
     "traceback": [
      "\u001b[0;36m  File \u001b[0;32m\"<ipython-input-10-7f5f03bbbe17>\"\u001b[0;36m, line \u001b[0;32m2\u001b[0m\n\u001b[0;31m    snp_info=\"/home/pette/Applied_Bioinformatics/Benchmarking_ASR_algorithms/snp_spreadsheet.$\u001b[0m\n\u001b[0m                                                                                              ^\u001b[0m\n\u001b[0;31mSyntaxError\u001b[0m\u001b[0;31m:\u001b[0m EOL while scanning string literal\n"
     ]
    }
   ],
   "source": [
    "snp_align=\"/home/pette/Applied_Bioinformatics/dropbox/snpAlignment_Spyrou2022.fasta\"\n",
    "snp_info=\"/home/pette/Applied_Bioinformatics/Benchmarking_ASR_algorithms/snp_spreadsheet.$\n",
    "full_align=\"/home/pette/Applied_Bioinformatics/dropbox/fullAlignment_Spyrou2022.fasta\"\n",
    "annotation=\" /home/pette/Applied_Bioinformatics/Benchmarking_ASR_algorithms/genomic.gtf\"\n",
    "outdir=\"/home/pette/Applied_Bioinformatics/asr/\"\n",
    "\n",
    "python3 snp_to_codon_alignment.py --snp_align_path '/home/pette/Applied_Bioinformatics/dropbox/snpAlignment_Spyrou2022.fasta' --snp_info_path '/home/pette/Applied_Bioinformatics/Benchmarking_ASR_algorithms/snp_spreadsheet.xlsx'--full_align_path '/home/pette/Applied_Bioinformatics/dropbox/fullAlignment_Spyrou2022.fasta' --annotation_path '/home/pette/Applied_Bioinformatics/Benchmarking_ASR_algorithms/genomic.gtf' --outdir '/home/pette/Applied_Bioinformatics/asr/'\n",
    "\n",
    "\n",
    "\n",
    "\n"
   ]
  },
  {
   "cell_type": "code",
   "execution_count": 11,
   "metadata": {},
   "outputs": [
    {
     "name": "stdout",
     "output_type": "stream",
     "text": [
      "['BSK001-003.A0101.A0102.A0103-malt', 'Azov38', 'Rostov2033', 'Gdansk8', 'G701', 'COLC1-COLC2a_COLC2b', 'Rostov2039', 'SC2_SPN7', 'CHE.C1-C2-3-C4', 'PEB10', 'G488', 'AGU025', 'AGU007', 'AGU010', 'OSL1', 'Ber37', 'Ber45', 'NMS002', 'BED024', 'BED028', 'BED030', 'BED034', 'BRA001', 'ELW098_JK1548', 'LAI009', 'LBG002', 'MAN008', 'NAB003', 'STA001', 'STN002', 'STN007', 'STN013', 'STN014', 'STN020', 'STN021', 'STN008', 'STN019', 'TRP002.A0101-02', 'London_StMaryGraces_6330', 'London_EastSmithfield_8124_8291_11972', 'Bolgar', 'Barcelona', 'OBS124', 'OBS107', 'OBS116', 'OBS137', 'OBS110', '0.ANT2_B42003004', '0.PE2_PEST-F', '0.PE4Ba_PestoidesA', '1.ANT1_UG05-0454', '1.ORI1_CA88', '1.ORI1_CO92', '1.ORI1b_India195', '1.ORI2_F1991016', '1.ORI3_IP275', '1.ORI3_MG05-1020', '2.ANT1_Nepal516', '2.MED1_K1973002', '2.MED1_KIM10', 'outgroup_Y.pseudo', '0.ANT1a_42013', '0.ANT1b_CMCC49003', '0.ANT1c_945', '0.ANT1d_164', '0.ANT1e_CMCC8211', '0.ANT1f_42095', '0.ANT1g_CMCC42007', '0.ANT1h_CMCC43032', '0.ANT2a_2330', '0.ANT3a_CMCC38001', '0.ANT3b_A1956001', '0.ANT3c_42082', '0.ANT3d_CMCC21106', '0.ANT3e_42091b', '0.PE4_M0000002', '0.PE4Aa_12', '0.PE4Ab_9', '0.PE4Ca_CMCCN010025', '0.PE4Cc_CMCC18019', '0.PE4Cd_CMCC93014', '0.PE4Ce_CMCC91090', '1.ANT1_Antiqua', '1.IN1a_CMCC11001', '1.IN1b_780441', '1.IN1c_K21985002', '1.IN2a_CMCC640047', '1.IN2b_30017', '1.IN2c_CMCC31004', '1.IN2d_C1975003', '1.IN2e_C1989001', '1.IN2f_710317', '1.IN2g_CMCC05013', '1.IN2h_5', '1.IN2i_CMCC10012', '1.IN2j_CMCC27002', '1.IN2k_970754', '1.IN2l_D1991004', '1.IN2m_D1964002b', '1.IN2n_CMCC02041', '1.IN2o_CMCC03001', '1.IN2p_D1982001', '1.IN2q_D1964001', '1.IN3a_F1954001', '1.IN3b_E1979001', '1.IN3c_CMCC84038b', '1.IN3d_YN1683', '1.IN3e_YN472', '1.IN3f_YN1065', '1.IN3g_E1977001', '1.IN3h_CMCC84033', '1.IN3i_CMCC84046', '1.ORI1a_CMCC114001', '1.ORI1c_F1946001', '1.ORI2a_YN2179', '1.ORI2c_YN2551b', '1.ORI2d_YN2588', '1.ORI2f_CMCC87001', '1.ORI2g_F1984001', '1.ORI2h_YN663', '1.ORI2i_CMCCK100001a', '1.ORI2i_CMCCK110001b', '1.ORI3a_EV76', '2.ANT1a_34008', '2.ANT1b_34202', '2.ANT2a_2', '2.ANT2b_351001', '2.ANT2c_CMCC347001', '2.ANT2d_G1996006', '2.ANT2e_G1996010', '2.ANT2f_CMCC348002', '2.ANT3a_CMCC92010', '2.ANT3b_CMCC95001', '2.ANT3c_CMCC96001', '2.ANT3d_CMCC96007', '2.ANT3e_CMCC67001', '2.ANT3f_CMCC104003', '2.ANT3g_CMCC51020', '2.ANT3h_CMCC106002', '2.ANT3i_CMCC64001', '2.ANT3j_H1959004', '2.ANT3k_5761', '2.ANT3l_735', '2.MED1b_2506', '2.MED1c_2654', '2.MED1d_2504', '2.MED2b_91', '2.MED2c_K11973002', '2.MED2d_A1973001', '2.MED2e_7338', '2.MED3a_J1963002', '2.MED3b_CMCC125002b', '2.MED3c_I1969003', '2.MED3d_J1978002', '2.MED3f_I1970005', '2.MED3g_CMCC99103', '2.MED3h_CMCC90027', '2.MED3i_CMCC92004', '2.MED3j_I2001001', '2.MED3k_CMCC12003', '2.MED3l_I1994006', '2.MED3m_SHAN11', '2.MED3n_SHAN12', '2.MED3o_I1991001', '2.MED3p_CMCC107004', '3.ANT1a_7b', '3.ANT1b_CMCC71001', '3.ANT1c_C1976001', '3.ANT1d_71021', '3.ANT2a_MGJZ6', '3.ANT2b_MGJZ7', '3.ANT2c_MGJZ9', '3.ANT2d_MGJZ11', '3.ANT2e_MGJZ3', '4.ANT1a_MGJZ12', '0.PE4_A-1804', '0.PE4_5307-Gis', '0.PE2_C-359', '0.PE2_C-590', '0.PE2_C-666', '0.PE4_I-3134', '0.PE2_C-291', '0.PE5_I-3189', '0.PE2_C-267', '0.PE2_C-537', '0.PE4_A-1807', '0.PE2_C-197', '0.PE4_A-513', '0.PE2_C-290', '0.PE5_I-2422a', '0.PE2_C-346', '0.PE5_I-2239', '0.PE2_C-235', '0.PE4_I-3455', '0.ANT3_790', '0.PE2_1412', '0.PE2_1413', '0.PE2_1522', '0.PE2_1670', '0.PE2_3067', '0.PE2_3770', '0.PE2_8787', '0.PE2_14735', '2.MED1_1045', '2.MED1_2944', '0.PE2_C-739', '0.ANT3_231', '0.ANT3_A-1486', '0.PE4h_A-1249', '0.ANT5_262', '0.ANT5_5M', '0.PE2_3544', '0.PE2_3551', '0.PE2_835_BPC', '0.PE2_C-741', '0.PE2_KM874', '0.PE2_M-986', '0.PE4a_B1313', '0.PE4a_I-2751-55', '0.PE4a_I-2998', '0.PE4m_I-3086', '0.PE5_I-2422b', '2.ANT3_KM682', '2.MED1_1116-D', '2.MED1_1240', '2.MED1_173', '2.MED1_1906', '2.MED1_244', '2.MED1_261', '2.MED1_44', '2.MED1_A-1763', '2.MED1_C-791', '2.MED1_KM816', '2.MED1_KM918', '2.MED1_M-1448', '2.MED1_M-1453', '2.MED1_M-1524', '2.MED1_M-1773', '2.MED1_M-1864', '2.MED1_M-549', '2.MED1_M-595', '2.MED1_M-978', '4.ANT_1454', '4.ANT_338', '4.ANT_517', '4.ANT_KM932', '4.ANT_M-1944', '0.PE5_I-2236', '0.PE5_I-3190', '0.PE5_I-2231', '0.PE5_I-2457']\n",
      "{'0.ANT1h_CMCC43032', '0.ANT1g_CMCC42007', 'MAN008', 'G488', '0.ANT1e_CMCC8211', '1.ORI2g_F1984001', '2.ANT2b_351001', '2.MED3i_CMCC92004', '4.ANT_M-1944', 'London_StMaryGraces_6330', 'STN020', '1.IN2k_970754', '0.PE4_I-3455', '2.ANT3_KM682', '2.MED2e_7338', 'CHE.C1-C2-3-C4', '0.PE2_3067', '2.ANT3d_CMCC96007', 'OBS137', '2.MED3c_I1969003', 'G701', '0.PE4a_I-2751-55', '0.ANT3_231', '0.PE2_C-590', '2.MED3o_I1991001', '2.ANT2a_2', '1.IN2f_710317', '2.MED1_44', '1.IN3d_YN1683', '0.PE4Ab_9', '1.ORI3_MG05-1020', '3.ANT2c_MGJZ9', '0.PE2_3770', '2.MED3p_CMCC107004', 'Gdansk8', '2.MED1_KIM10', '0.PE2_C-290', 'BED030', '0.PE2_1522', '0.PE4Ba_PestoidesA', '1.ORI3a_EV76', '2.ANT3a_CMCC92010', '2.MED1_1240', '2.ANT3h_CMCC106002', '0.PE5_I-2231', '1.IN2q_D1964001', '1.ORI2h_YN663', '1.IN3i_CMCC84046', '1.ORI2d_YN2588', '0.PE2_3551', '1.IN2i_CMCC10012', '0.PE2_14735', 'BED034', 'COLC1-COLC2a_COLC2b', '2.MED3h_CMCC90027', '1.ORI2c_YN2551b', '2.MED1_A-1763', 'PEB10', '1.ANT1_UG05-0454', '0.PE4a_B1313', '4.ANT_1454', 'outgroup_Y.pseudo', '0.ANT1d_164', '0.PE4Cc_CMCC18019', '3.ANT2b_MGJZ7', '2.ANT3c_CMCC96001', 'STN019', '0.ANT1f_42095', '2.MED2c_K11973002', '2.MED1_1116-D', '1.ORI2a_YN2179', '2.ANT2e_G1996010', 'STN021', 'OBS110', '2.MED1_173', '0.PE4_5307-Gis', 'Azov38', '0.PE2_C-666', '1.IN2m_D1964002b', '2.ANT1b_34202', '2.ANT3j_H1959004', '1.ORI1_CO92', '2.MED3g_CMCC99103', 'STN013', '3.ANT1d_71021', '2.MED1_C-791', '0.PE4h_A-1249', '0.PE5_I-2422b', 'OBS116', '0.PE4_A-1807', '0.PE4_M0000002', '0.ANT3_A-1486', 'TRP002.A0101-02', '1.IN3b_E1979001', 'STA001', 'Bolgar', '3.ANT1c_C1976001', '0.ANT5_5M', '1.IN2c_CMCC31004', '0.PE2_C-197', '2.MED1_M-1773', 'London_EastSmithfield_8124_8291_11972', '0.ANT3c_42082', 'OSL1', 'STN002', '1.IN3a_F1954001', '1.ORI2i_CMCCK110001b', 'BRA001', 'STN008', '2.ANT1a_34008', '2.MED1_M-549', '2.MED3d_J1978002', '0.PE4_I-3134', '3.ANT2a_MGJZ6', '0.PE2_C-291', '2.MED1_M-1448', '2.MED3n_SHAN12', '2.MED3f_I1970005', '2.MED1_KM918', '2.MED1_1045', 'BED024', '1.IN3e_YN472', '1.IN3f_YN1065', '0.PE2_1412', '0.PE2_3544', '1.IN2p_D1982001', '0.PE2_PEST-F', '1.ORI1b_India195', 'AGU010', '0.PE5_I-2457', 'Rostov2033', '1.ORI2_F1991016', '2.ANT2f_CMCC348002', 'LBG002', '2.ANT3k_5761', 'BSK001-003.A0101.A0102.A0103-malt', '2.MED3b_CMCC125002b', '2.ANT3l_735', '2.MED3j_I2001001', '0.PE2_C-741', '1.IN2j_CMCC27002', '1.ORI2i_CMCCK100001a', '0.PE4Ce_CMCC91090', '2.MED3m_SHAN11', '3.ANT2e_MGJZ3', '2.MED1_M-1864', 'Ber45', '0.ANT3a_CMCC38001', '0.PE2_M-986', '2.ANT3b_CMCC95001', '0.PE2_C-267', '0.ANT3e_42091b', '0.ANT1a_42013', '2.MED2b_91', 'OBS107', '0.PE5_I-3189', '1.IN2e_C1989001', '0.PE5_I-2236', '4.ANT_517', '0.PE5_I-2422a', '2.ANT3g_CMCC51020', 'AGU007', 'ELW098_JK1548', '1.IN2o_CMCC03001', '2.ANT2c_CMCC347001', '2.MED1d_2504', 'SC2_SPN7', '2.MED3k_CMCC12003', '0.PE2_1413', '4.ANT_338', '1.IN1a_CMCC11001', '2.MED3l_I1994006', '2.MED1_M-595', '0.PE2_1670', '1.ORI1_CA88', '0.ANT1c_945', '3.ANT1b_CMCC71001', '3.ANT2d_MGJZ11', '2.MED1_K1973002', '0.ANT1b_CMCC49003', '0.ANT3d_CMCC21106', '1.ORI2f_CMCC87001', '3.ANT1a_7b', '0.PE4m_I-3086', 'STN014', '0.ANT2_B42003004', '0.PE2_C-346', '0.PE2_C-235', '0.PE4Ca_CMCCN010025', '0.PE4a_I-2998', '1.IN1b_780441', '2.MED1_1906', '2.ANT3i_CMCC64001', '0.PE4_A-513', '0.PE5_I-3190', '2.MED1_M-978', '2.ANT1_Nepal516', 'NAB003', '1.IN2l_D1991004', '2.MED1_M-1453', 'LAI009', '2.ANT3f_CMCC104003', '2.MED1_2944', '0.PE2_C-739', '2.MED1_M-1524', '2.MED1c_2654', '4.ANT_KM932', '0.ANT3_790', '0.PE2_8787', '2.MED2d_A1973001', 'OBS124', '1.IN2g_CMCC05013', '2.MED1b_2506', '1.IN3h_CMCC84033', '2.ANT2d_G1996006', 'NMS002', '0.ANT2a_2330', 'Rostov2039', '1.ORI3_IP275', 'BED028', '0.ANT5_262', '2.MED1_KM816', '1.IN3c_CMCC84038b', '4.ANT1a_MGJZ12', '0.PE2_C-359', '1.IN2a_CMCC640047', '1.ANT1_Antiqua', 'Barcelona', 'Ber37', 'AGU025', '0.PE4Aa_12', '0.PE2_C-537', '0.ANT3b_A1956001', '2.ANT3e_CMCC67001', '1.IN2b_30017', '0.PE2_KM874', '0.PE4Cd_CMCC93014', '1.IN2d_C1975003', '2.MED1_244', '1.IN2h_5', '1.IN3g_E1977001', '1.ORI1c_F1946001', '0.PE2_835_BPC', '2.MED3a_J1963002', 'STN007', '0.PE5_I-2239', '2.MED1_261', '1.IN2n_CMCC02041', '1.ORI1a_CMCC114001', '0.PE4_A-1804', '1.IN1c_K21985002'}\n",
      "[]\n",
      "['BSK001', 'BSK003']\n"
     ]
    }
   ],
   "source": [
    "print(headers)\n",
    "print(enteries)\n",
    "print(unique_to_Headersfromfasta)\n",
    "print(unique_to_snpinfo)\n"
   ]
  }
 ],
 "metadata": {
  "kernelspec": {
   "display_name": "base",
   "language": "python",
   "name": "python3"
  },
  "language_info": {
   "codemirror_mode": {
    "name": "ipython",
    "version": 3
   },
   "file_extension": ".py",
   "mimetype": "text/x-python",
   "name": "python",
   "nbconvert_exporter": "python",
   "pygments_lexer": "ipython3",
   "version": "3.7.4"
  },
  "orig_nbformat": 4
 },
 "nbformat": 4,
 "nbformat_minor": 2
}
