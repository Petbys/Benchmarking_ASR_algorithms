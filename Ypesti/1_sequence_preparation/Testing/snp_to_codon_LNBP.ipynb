{
 "cells": [
  {
   "cell_type": "code",
   "execution_count": 4,
   "metadata": {},
   "outputs": [],
   "source": [
    "import pandas as pd"
   ]
  },
  {
   "cell_type": "code",
   "execution_count": 9,
   "metadata": {},
   "outputs": [],
   "source": [
    "all_col_df = pd.read_csv('/Users/petterbystrom/Documents/Applied Bioinformatics/LNBA/LNBAdataset2021_gok2_RV2039_SNPExcluded_allColumns.tsv',delimiter='\\t')"
   ]
  },
  {
   "cell_type": "code",
   "execution_count": 16,
   "metadata": {},
   "outputs": [],
   "source": [
    "def headers_from_fasta(fasta_file):\n",
    "    headers = []\n",
    "    if str(fasta_file)[-2:]!=\"gz\":\n",
    "        with open(fasta_file, 'r') as fasta_file:\n",
    "            current_header = None\n",
    "            for line in fasta_file:\n",
    "                line = line.strip()\n",
    "                if line.startswith('>'):\n",
    "                    # If a line starts with '>', it's a header line\n",
    "                    current_header = line\n",
    "                    headers.append(current_header)\n",
    "    elif str(fasta_file)[-2:]==\"gz\":\n",
    "\n",
    "        with gzip.open(fasta_file, 'rt') as fasta_file:\n",
    "            current_header = None\n",
    "            for line in fasta_file:\n",
    "                line = line.strip()\n",
    "                if line.startswith('>'):\n",
    "                    # If a line starts with '>', it's a header line\n",
    "                    current_header = line\n",
    "                    print(line)\n",
    "                    headers.append(current_header)\n",
    "\n",
    "    return [line.replace('>', '') for line in headers]"
   ]
  },
  {
   "cell_type": "code",
   "execution_count": 17,
   "metadata": {},
   "outputs": [],
   "source": [
    "headers=headers_from_fasta(\"/Users/petterbystrom/Documents/Applied Bioinformatics/snpAlignment_Spyrou2022.fasta\")"
   ]
  },
  {
   "cell_type": "code",
   "execution_count": null,
   "metadata": {},
   "outputs": [],
   "source": []
  },
  {
   "cell_type": "code",
   "execution_count": 23,
   "metadata": {},
   "outputs": [
    {
     "name": "stdout",
     "output_type": "stream",
     "text": [
      "311\n"
     ]
    }
   ],
   "source": [
    "info_df_headers = all_col_df.columns.to_list()\n",
    "print(len(info_df_headers))"
   ]
  },
  {
   "cell_type": "code",
   "execution_count": 20,
   "metadata": {},
   "outputs": [],
   "source": [
    "shared_strains = set(headers) & set(info_df_headers)"
   ]
  },
  {
   "cell_type": "code",
   "execution_count": 22,
   "metadata": {},
   "outputs": [
    {
     "name": "stdout",
     "output_type": "stream",
     "text": [
      "212\n",
      "['Position', 'Ref', 'Gok2', 'RV2039', '1343UNTAL85', 'ARS007', 'ARS007_F', 'ARS007_R', 'CHC004', 'GRH001', 'GRH001_F', 'GRH001_R', 'GRS004', 'HOP001', 'HOP004', 'KLE031', 'KLE048', 'KLZ001', 'KLZ001_F', 'KLZ001_R', 'KNK001', 'KNK001_F', 'KNK001_R', 'KZL002', 'MIB054', 'OOH003', 'OOH003_F', 'OOH003_R', 'VEL003', 'VEL003_F', 'VEL003_R', 'VLI092', 'XXX001.A18956-61', 'XXX001.A18962-69-72', 'GZL002.A0101_02.YP2.1', 'GZL001.A0101_02.YP2.1', 'STN019.A0101_SE', 'BED028.A0102_8103_PE_SE', 'NMS002.A0101.combined', 'STN002.A0101_SE', 'JK1548_UDG_PE_SE', 'BED030.A0102_8127_PE_SE', 'BED024.A0102_8052_PE_SE', 'STN020.A0101_SE', 'STN021.A0101_SE', 'STA001.A0101_PE_SE', 'LAI009.A0101_RT88_PE_SE', 'BED034.A0102_8198_PE_SE', 'STN014.A0101_SE', 'BRA001.A0101_PE_SE', 'STN008.A0101_SE', 'STN007.A0101_SE', 'MAN008.B0101_SE', 'EDI001.A_shotgun', 'Altenerding2018', 'MIK005.A_RT5', 'GEN72', 'Gyvakarai1', 'PST006.A_Post6', 'RK1001.C', 'KunilaII', 'RISE509', 'RISE505', '0.PE4_Microtus91001', '0.PE2b_G8786', '0.PE7b_620024', '0.PE2_C-746', '0.PE2_C-824', '0.PE2_C-370', '0.PE2_C-712', '0.PE2_C-535', '0.PE2_C-678', '0.PE2_C-700', '0.ANT5_A-1691', '0.ANT5_A-1836', '0.PE4t_A-1815', '2.MED1_A-1809', '2.MED0_C-627', '2.MED1_139', '2.MED1_A-1825', '2.MED1_A-1920', '2.MED1_M-1484', '2.MED1_M-519', '0.PE4_I-3443', '0.PE4_I-3447', '0.PE4_I-3518', '0.PE4_I-3516', '0.PE4_I-3515', '0.PE4_I-3442', '0.PE4_I-3517', '0.PE4_I-3446', '0.PE4_I-3519', '0.PE5_I-2238', 'OOH003_c', 'ARS007_c', 'GRH001_c', 'KLZ001_c', 'KNK001_c', 'VEL003_c']\n"
     ]
    }
   ],
   "source": [
    "print(len(shared_strains))\n",
    "new_strains = [elements for elements in info_df_headers if elements not in shared_strains]\n",
    "print(new_strains)"
   ]
  },
  {
   "cell_type": "code",
   "execution_count": null,
   "metadata": {},
   "outputs": [],
   "source": [
    "fastafile = ('')\n",
    "for lines in fastaafile:\n",
    "    if lines_starts with header_from_prunetree:\n",
    "        #add to new file\n",
    "with open(fasta_prune.fasta,w) as f:\n",
    "    f.write(lines)\n",
    "    logfile one directory up for ARPIP\n",
    "\n",
    "    "
   ]
  }
 ],
 "metadata": {
  "kernelspec": {
   "display_name": "base",
   "language": "python",
   "name": "python3"
  },
  "language_info": {
   "codemirror_mode": {
    "name": "ipython",
    "version": 3
   },
   "file_extension": ".py",
   "mimetype": "text/x-python",
   "name": "python",
   "nbconvert_exporter": "python",
   "pygments_lexer": "ipython3",
   "version": "3.7.4"
  },
  "orig_nbformat": 4
 },
 "nbformat": 4,
 "nbformat_minor": 2
}
